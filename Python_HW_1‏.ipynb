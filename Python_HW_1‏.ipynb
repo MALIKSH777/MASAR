{
  "nbformat": 4,
  "nbformat_minor": 0,
  "metadata": {
    "colab": {
      "provenance": [],
      "authorship_tag": "ABX9TyPO7mkmlehiyWQfy9pLF49q",
      "include_colab_link": true
    },
    "kernelspec": {
      "name": "python3",
      "display_name": "Python 3"
    },
    "language_info": {
      "name": "python"
    }
  },
  "cells": [
    {
      "cell_type": "markdown",
      "metadata": {
        "id": "view-in-github",
        "colab_type": "text"
      },
      "source": [
        "<a href=\"https://colab.research.google.com/github/MALIKSH777/MASAR/blob/main/Python_HW_1%E2%80%8F.ipynb\" target=\"_parent\"><img src=\"https://colab.research.google.com/assets/colab-badge.svg\" alt=\"Open In Colab\"/></a>"
      ]
    },
    {
      "cell_type": "code",
      "execution_count": 30,
      "metadata": {
        "id": "kbMZbKdd1Rpx",
        "colab": {
          "base_uri": "https://localhost:8080/"
        },
        "outputId": "faa0e337-e58c-4f24-c45f-fd6dad2c2397"
      },
      "outputs": [
        {
          "output_type": "stream",
          "name": "stdout",
          "text": [
            "مرحبا! اسمي هو: مالك، وأبلغ من العمر 18 سنة، وأريد أن أصبح واحدا من أفضل المبرمجين وخبراء الأمن السيبراني حول العالم \n"
          ]
        }
      ],
      "source": [
        "#تعريف متغير باسمي\n",
        "name = \"مالك\"\n",
        "\n",
        "#متغير آخر قيمته هو العمر\n",
        "age = 18\n",
        "\n",
        "#طباعة جملة تحتوي معلوماتي وأتحدث فيها عن نفسي\n",
        "print(\"مرحبا! اسمي هو: \" + name + \"، وأبلغ من العمر \" + str(age) +\n",
        "      \" سنة، وأريد أن أصبح واحدا من أفضل المبرمجين وخبراء الأمن السيبراني حول العالم \")\n"
      ]
    }
  ]
}