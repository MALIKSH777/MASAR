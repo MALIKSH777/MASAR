{
  "nbformat": 4,
  "nbformat_minor": 0,
  "metadata": {
    "colab": {
      "provenance": [],
      "authorship_tag": "ABX9TyNThnHEF3RPicpcV5OI7Keo",
      "include_colab_link": true
    },
    "kernelspec": {
      "name": "python3",
      "display_name": "Python 3"
    },
    "language_info": {
      "name": "python"
    }
  },
  "cells": [
    {
      "cell_type": "markdown",
      "metadata": {
        "id": "view-in-github",
        "colab_type": "text"
      },
      "source": [
        "<a href=\"https://colab.research.google.com/github/MALIKSH777/MASAR/blob/main/Quiz1.ipynb\" target=\"_parent\"><img src=\"https://colab.research.google.com/assets/colab-badge.svg\" alt=\"Open In Colab\"/></a>"
      ]
    },
    {
      "cell_type": "code",
      "execution_count": 2,
      "metadata": {
        "colab": {
          "base_uri": "https://localhost:8080/"
        },
        "id": "zKiOmgPGks7Y",
        "outputId": "f2029cea-6a15-4173-85a0-b3f84884b301"
      },
      "outputs": [
        {
          "output_type": "stream",
          "name": "stdout",
          "text": [
            "[0, 5]\n"
          ]
        }
      ],
      "source": [
        "def two_sum(nums, target):\n",
        "    num_dict = {}\n",
        "\n",
        "    for i, num in enumerate(nums):\n",
        "        difference = target - num\n",
        "\n",
        "        if difference in num_dict:\n",
        "            return [num_dict[difference], i]\n",
        "\n",
        "        num_dict[num] = i\n",
        "\n",
        "    return None\n",
        "\n",
        "nums = [2, 5, 11, 15,6,7,9,10]\n",
        "target = 9\n",
        "print(two_sum(nums, target))"
      ]
    }
  ]
}